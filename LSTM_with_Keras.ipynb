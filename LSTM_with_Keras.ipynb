{
 "cells": [
  {
   "cell_type": "markdown",
   "metadata": {},
   "source": [
    "# LSTM-AI4Industry, Edition 2021\n",
    "Last Update : 15 Janvier 2021\n",
    "\n",
    "Présentation de l'implémentation de LSTM dans un réseau de neurones avec Keras via un jupyter Notebook\n",
    "\n",
    "Tache d'apprentissage supervisé de prédiction de symbole"
   ]
  },
  {
   "cell_type": "code",
   "execution_count": 10,
   "metadata": {},
   "outputs": [],
   "source": [
    "import tensorflow as tf\n",
    "from tensorflow import keras\n",
    "\n",
    "from tensorflow.keras import Input, Model\n",
    "from tensorflow.keras.layers import Dense, LSTM, Concatenate\n",
    "from tensorflow.keras.utils import plot_model"
   ]
  },
  {
   "cell_type": "markdown",
   "metadata": {},
   "source": [
    "**Téléchargement et reshape des données**\n",
    "\n",
    "Entrainer un réseau de neurone implique de traiter des données.\n",
    "Ici les données sont téléchagées à partir du fichier \"data_samples.npy\" qui est un format numpy.\n",
    "Les données correspondent à une liste de deux listes de même taille. La première liste regroupe les données qui seront fournis en entrée du réseau (des vecteurs binaires de taille 7) et la seconde liste regroupe les sorties attendus (expected outputs) que le réseau doit apprendre à prédire.\n",
    "\n",
    "Les données sont ensuite segmentées en 3 corpus de taille différentes : \n",
    "* Le corpus d'entrainement : 50% du corpus de données d'origine\n",
    "* Le corpus de validation : 25% du corpus de données d'origine\n",
    "* Le corpus de test : 25% du corpus de données d'origine"
   ]
  },
  {
   "cell_type": "code",
   "execution_count": 11,
   "metadata": {},
   "outputs": [
    {
     "name": "stdout",
     "output_type": "stream",
     "text": [
      "Data samples lenght : \n",
      "576\n",
      "576\n",
      "Train data samples lenght : \n",
      "288\n",
      "288\n",
      "Validation data samples lenght : \n",
      "144\n",
      "144\n",
      "Test data samples lenght : \n",
      "144\n",
      "144\n"
     ]
    }
   ],
   "source": [
    "import numpy as np\n",
    "\n",
    "#loading samples [input, expected_output]\n",
    "[input_data, output_data] = np.load(\"data_samples.npy\")\n",
    "print (\"Data samples lenght : \")\n",
    "print (len(input_data))\n",
    "print (len(output_data))\n",
    "\n",
    "#Data samples for training\n",
    "input_train = input_data[:int(len(input_data) * .50)]\n",
    "output_train = output_data[:int(len(output_data) * .50)]\n",
    "assert(len(input_train)==len(output_train))\n",
    "print (\"Train data samples lenght : \")\n",
    "print (len(input_train))\n",
    "print (len(output_train))\n",
    "\n",
    "input_train = np.reshape(input_train, (input_train.shape[0], 1, input_train.shape[1]))\n",
    "\n",
    "#Data samples for validation and testing\n",
    "in_data = input_data[int(len(input_train)):]\n",
    "input_val = in_data[:int(len(in_data) * .50)]\n",
    "input_test = in_data[int(len(input_val)):]\n",
    "\n",
    "out_data = output_data[int(len(output_train)):]\n",
    "output_val = out_data[:int(len(out_data) * .50)]\n",
    "output_test = out_data[int(len(output_val)):]\n",
    "\n",
    "assert(len(input_val)==len(output_val))\n",
    "assert(len(input_test)==len(output_test))\n",
    "\n",
    "input_val = np.reshape(input_val, (input_val.shape[0], 1, input_val.shape[1]))\n",
    "\n",
    "input_test = np.reshape(input_test, (input_test.shape[0], 1, input_test.shape[1]))\n",
    "\n",
    "print (\"Validation data samples lenght : \")\n",
    "print (len(input_val))\n",
    "print (len(output_val))\n",
    "\n",
    "print (\"Test data samples lenght : \")\n",
    "print (len(input_test))\n",
    "print (len(output_test))"
   ]
  },
  {
   "cell_type": "markdown",
   "metadata": {},
   "source": [
    "\n",
    "**Création de l'architecture du réseau**"
   ]
  },
  {
   "cell_type": "code",
   "execution_count": 12,
   "metadata": {},
   "outputs": [
    {
     "name": "stdout",
     "output_type": "stream",
     "text": [
      "Model :\n",
      "Model: \"model_1\"\n",
      "_________________________________________________________________\n",
      "Layer (type)                 Output Shape              Param #   \n",
      "=================================================================\n",
      "input_2 (InputLayer)         [(None, None, 7)]         0         \n",
      "_________________________________________________________________\n",
      "lstm_1 (LSTM)                (None, 8)                 512       \n",
      "_________________________________________________________________\n",
      "output_layer (Dense)         (None, 7)                 63        \n",
      "=================================================================\n",
      "Total params: 575\n",
      "Trainable params: 575\n",
      "Non-trainable params: 0\n",
      "_________________________________________________________________\n",
      "None\n"
     ]
    }
   ],
   "source": [
    "#Declaration of the shape of the input data which is a tensor\n",
    "input_tensor = Input(shape=(None, 7))\n",
    "\n",
    "#Add a LSTM layer with 8 internal units, that has as input the previous tensor declared\n",
    "lstm_layer_output = LSTM(units=8)(input_tensor)\n",
    "\n",
    "#Add an output layer, which is a dense layer with 7 units with a sigmoid as an activation function\n",
    "#this layer take the vector generated from the previous layer as input (ie lstm_layer_output)\n",
    "output_layer = Dense(7, activation='sigmoid', name='output_layer')(lstm_layer_output)\n",
    "\n",
    "#Declaration of the model with its input and output\n",
    "model = Model(inputs=[input_tensor], outputs=[output_layer])\n",
    "\n",
    "#Display the model with parameters\n",
    "print(\"Model :\")\n",
    "print(model.summary())"
   ]
  },
  {
   "cell_type": "markdown",
   "metadata": {},
   "source": [
    "**Représentation graphique de l'architecture**\n",
    "\n",
    "Il est aussi possible de générer une représentation graphique, plus visuelle, de l'architecture grace à la fonction `plot_model`. Des paramètres peuvent être ajouté pour afficher plus d'informations (tel le format des données entrantes et sortantes de chaque couches).\n",
    "\n",
    "Pour plus d'informations :https://keras.io/api/utils/model_plotting_utils/ "
   ]
  },
  {
   "cell_type": "code",
   "execution_count": 13,
   "metadata": {},
   "outputs": [
    {
     "data": {
      "image/png": "[encoded data removed]",
      "text/plain": [
       "<IPython.core.display.Image object>"
      ]
     },
     "execution_count": 13,
     "metadata": {},
     "output_type": "execute_result"
    }
   ],
   "source": [
    "plot_model(model, to_file='mode.png', show_layer_names=True)"
   ]
  },
  {
   "cell_type": "markdown",
   "metadata": {},
   "source": [
    "Il est important de souligner que le format de données entrantes et sortantes doit être cohérent avec l'architecture des couches d'entrées et de sortie du modèle."
   ]
  },
  {
   "cell_type": "code",
   "execution_count": 14,
   "metadata": {},
   "outputs": [
    {
     "name": "stdout",
     "output_type": "stream",
     "text": [
      "(288, 1, 7)\n",
      "(288, 7)\n"
     ]
    }
   ],
   "source": [
    "print((input_train.shape))\n",
    "print((output_train.shape))"
   ]
  },
  {
   "cell_type": "markdown",
   "metadata": {},
   "source": [
    "**Compilation du modèle et lancement de la phase d'apprentissage**\n",
    "\n",
    "Keras nécessite de compiler un modèle une fois son architecture définie.\n",
    "Pour cela, la fonction compile nécessite d'indiquer obligatoirement :\n",
    "* une fonction de perte, i.e, paramètre *loss*\n",
    "* une fonction d’optimisation,  i.e, paramètre *optimizer*. \n",
    "\n",
    "Il est aussi possible d'ajouter une liste de métriques qui seront utilisées\n",
    "lors de la phase d’apprentissage, i.e paramètre *metrics*. \n",
    "Dans l’exemple ci dessous, c'est l'*accuracy* qui mesure la précision des prédictions du modèle qui est utilisé.\n",
    "\n",
    "Remarque importante : le taux d'apprentissage (tx), paramètre important, n'est pas explicitement défini ici.\n",
    "Il est implicitement fixé par le choix de l'optimizer.\n",
    "Par défaut Keras fixe tx=0,01 pour optimizer='adam'.\n",
    "Pour plus d'informations : https://keras.io/api/optimizers/"
   ]
  },
  {
   "cell_type": "code",
   "execution_count": 16,
   "metadata": {},
   "outputs": [],
   "source": [
    "#Declaration of the loss used of learning, the optimizer and which metrics to use during learning phase\n",
    "#the learning rate is not explicitly set here, but depend of the choice of the optimizer. \n",
    "#For adam, the learning rate value will be 0.01\n",
    "model.compile(loss=['mean_squared_error'], optimizer='adam', metrics=['accuracy'])"
   ]
  },
  {
   "cell_type": "markdown",
   "metadata": {},
   "source": [
    "Une fois le modèle compilé, il est alors prêt à être entrainé en lui spécifiant les données d'entrainement, les données de validation ainsi que les autres paramètres pertinents pour la tache ciblée."
   ]
  },
  {
   "cell_type": "code",
   "execution_count": 17,
   "metadata": {},
   "outputs": [
    {
     "name": "stdout",
     "output_type": "stream",
     "text": [
      "Train on 288 samples, validate on 144 samples\n",
      "Epoch 1/10\n",
      "288/288 [==============================] - 4s 13ms/sample - loss: 0.2254 - accuracy: 0.2431 - val_loss: 0.1988 - val_accuracy: 0.2083\n",
      "Epoch 2/10\n",
      "288/288 [==============================] - 1s 3ms/sample - loss: 0.1651 - accuracy: 0.2847 - val_loss: 0.1404 - val_accuracy: 0.1875\n",
      "Epoch 3/10\n",
      "288/288 [==============================] - 1s 3ms/sample - loss: 0.1257 - accuracy: 0.2708 - val_loss: 0.1212 - val_accuracy: 0.2778\n",
      "Epoch 4/10\n",
      "288/288 [==============================] - 1s 3ms/sample - loss: 0.1154 - accuracy: 0.3715 - val_loss: 0.1164 - val_accuracy: 0.2778\n",
      "Epoch 5/10\n",
      "288/288 [==============================] - 1s 3ms/sample - loss: 0.1115 - accuracy: 0.3715 - val_loss: 0.1139 - val_accuracy: 0.2778\n",
      "Epoch 6/10\n",
      "288/288 [==============================] - 1s 3ms/sample - loss: 0.1086 - accuracy: 0.3715 - val_loss: 0.1124 - val_accuracy: 0.2778\n",
      "Epoch 7/10\n",
      "288/288 [==============================] - 1s 3ms/sample - loss: 0.1062 - accuracy: 0.3715 - val_loss: 0.1114 - val_accuracy: 0.2778\n",
      "Epoch 8/10\n",
      "288/288 [==============================] - 1s 3ms/sample - loss: 0.1044 - accuracy: 0.3715 - val_loss: 0.1107 - val_accuracy: 0.2778\n",
      "Epoch 9/10\n",
      "288/288 [==============================] - 1s 4ms/sample - loss: 0.1029 - accuracy: 0.4028 - val_loss: 0.1101 - val_accuracy: 0.2917\n",
      "Epoch 10/10\n",
      "288/288 [==============================] - 1s 3ms/sample - loss: 0.1016 - accuracy: 0.4375 - val_loss: 0.1098 - val_accuracy: 0.2917\n"
     ]
    },
    {
     "data": {
      "text/plain": [
       "<tensorflow.python.keras.callbacks.History at 0x7fbcdd893cc0>"
      ]
     },
     "execution_count": 17,
     "metadata": {},
     "output_type": "execute_result"
    }
   ],
   "source": [
    "model.fit(input_train,{'output_layer': output_train},\n",
    "       validation_data=(input_val, {'output_layer': output_val}),\n",
    "       epochs=10, batch_size=1, verbose=1)"
   ]
  },
  {
   "cell_type": "markdown",
   "metadata": {},
   "source": [
    "Enfin pour la phase de test, et ultérieurement la mise en production du modèle, une fois l'apprentissage réalisé et le modèle sauvegardé, il suffit de faire appel à la fonction `predict` pour obtenir les prédictions du réseau."
   ]
  },
  {
   "cell_type": "code",
   "execution_count": 23,
   "metadata": {},
   "outputs": [
    {
     "data": {
      "text/plain": [
       "array([[0.02213836, 0.3020041 , 0.15181598, ..., 0.23874897, 0.0973143 ,\n",
       "        0.07196128],\n",
       "       [0.04761323, 0.10738218, 0.10471302, ..., 0.17482743, 0.49605677,\n",
       "        0.26284546],\n",
       "       [0.04761323, 0.10738218, 0.10471302, ..., 0.17482743, 0.49605677,\n",
       "        0.26284546],\n",
       "       ...,\n",
       "       [0.02213836, 0.3020041 , 0.15181598, ..., 0.23874897, 0.0973143 ,\n",
       "        0.07196128],\n",
       "       [0.04761323, 0.10738218, 0.10471302, ..., 0.17482743, 0.49605677,\n",
       "        0.26284546],\n",
       "       [0.04761323, 0.10738218, 0.10471302, ..., 0.17482743, 0.49605677,\n",
       "        0.26284546]], dtype=float32)"
      ]
     },
     "execution_count": 23,
     "metadata": {},
     "output_type": "execute_result"
    }
   ],
   "source": [
    "#Testing of the model\n",
    "input_test = tf.cast(input_test, tf.float32)\n",
    "model.predict(input_test)"
   ]
  }
 ],
 "metadata": {
  "kernelspec": {
   "display_name": "Python 3",
   "language": "python",
   "name": "python3"
  },
  "language_info": {
   "codemirror_mode": {
    "name": "ipython",
    "version": 3
   },
   "file_extension": ".py",
   "mimetype": "text/x-python",
   "name": "python",
   "nbconvert_exporter": "python",
   "pygments_lexer": "ipython3",
   "version": "3.6.8"
  }
 },
 "nbformat": 4,
 "nbformat_minor": 4
}
