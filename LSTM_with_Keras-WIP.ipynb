{
 "cells": [
  {
   "cell_type": "code",
   "execution_count": 6,
   "id": "geological-transcription",
   "metadata": {},
   "outputs": [],
   "source": [
    "import tensorflow as tf\n",
    "from tensorflow import keras\n",
    "\n",
    "from tensorflow.keras import Input, Model\n",
    "from tensorflow.keras.layers import Dense, LSTM, Concatenate\n",
    "from tensorflow.keras.utils import plot_model"
   ]
  },
  {
   "cell_type": "code",
   "execution_count": 7,
   "id": "capable-handling",
   "metadata": {},
   "outputs": [
    {
     "name": "stdout",
     "output_type": "stream",
     "text": [
      "Data samples lenght : \n",
      "576\n",
      "576\n",
      "Train data samples lenght : \n",
      "288\n",
      "288\n",
      "Validation data samples lenght : \n",
      "144\n",
      "144\n",
      "Test data samples lenght : \n",
      "144\n",
      "144\n"
     ]
    }
   ],
   "source": [
    "import numpy as np\n",
    "\n",
    "#loading samples [input, expected_output]\n",
    "[input_data, output_data] = np.load(\"data_samples.npy\")\n",
    "print (\"Data samples lenght : \")\n",
    "print (len(input_data))\n",
    "print (len(output_data))\n",
    "\n",
    "#Data samples for training\n",
    "input_train = input_data[:int(len(input_data) * .50)]\n",
    "output_train = output_data[:int(len(output_data) * .50)]\n",
    "assert(len(input_train)==len(output_train))\n",
    "print (\"Train data samples lenght : \")\n",
    "print (len(input_train))\n",
    "print (len(output_train))\n",
    "\n",
    "input_train = np.reshape(input_train, (input_train.shape[0], 1, input_train.shape[1]))\n",
    "\n",
    "#Data samples for validation and testing\n",
    "in_data = input_data[int(len(input_train)):]\n",
    "input_val = in_data[:int(len(in_data) * .50)]\n",
    "input_test = in_data[int(len(input_val)):]\n",
    "\n",
    "out_data = output_data[int(len(output_train)):]\n",
    "output_val = out_data[:int(len(out_data) * .50)]\n",
    "output_test = out_data[int(len(output_val)):]\n",
    "\n",
    "assert(len(input_val)==len(output_val))\n",
    "assert(len(input_test)==len(output_test))\n",
    "\n",
    "input_val = np.reshape(input_val, (input_val.shape[0], 1, input_val.shape[1]))\n",
    "\n",
    "input_test = np.reshape(input_test, (input_test.shape[0], 1, input_test.shape[1]))\n",
    "\n",
    "print (\"Validation data samples lenght : \")\n",
    "print (len(input_val))\n",
    "print (len(output_val))\n",
    "\n",
    "print (\"Test data samples lenght : \")\n",
    "print (len(input_test))\n",
    "print (len(output_test))"
   ]
  },
  {
   "cell_type": "code",
   "execution_count": 9,
   "id": "tutorial-california",
   "metadata": {},
   "outputs": [
    {
     "name": "stdout",
     "output_type": "stream",
     "text": [
      "Model :\n",
      "Model: \"model_1\"\n",
      "_________________________________________________________________\n",
      "Layer (type)                 Output Shape              Param #   \n",
      "=================================================================\n",
      "input_2 (InputLayer)         [(None, None, 7)]         0         \n",
      "_________________________________________________________________\n",
      "lstm_1 (LSTM)                (None, 8)                 512       \n",
      "_________________________________________________________________\n",
      "output_layer (Dense)         (None, 7)                 63        \n",
      "=================================================================\n",
      "Total params: 575\n",
      "Trainable params: 575\n",
      "Non-trainable params: 0\n",
      "_________________________________________________________________\n",
      "None\n"
     ]
    }
   ],
   "source": [
    "#Exemple 1 \n",
    "input_tensor = Input(shape=(None, 7))\n",
    "lstm_layer_output = LSTM(units=8)(input_tensor)\n",
    "output_layer = Dense(7, activation='sigmoid', name='output_layer')(lstm_layer_output)\n",
    "model = Model(inputs=[input_tensor], outputs=[output_layer])\n",
    "print(\"Model :\")\n",
    "print(model.summary())"
   ]
  },
  {
   "cell_type": "code",
   "execution_count": 10,
   "id": "handed-multimedia",
   "metadata": {},
   "outputs": [
    {
     "data": {
      "image/png": "[encoded data removed]",
      "text/plain": [
       "<IPython.core.display.Image object>"
      ]
     },
     "execution_count": 10,
     "metadata": {},
     "output_type": "execute_result"
    }
   ],
   "source": [
    "plot_model(model, to_file='mode.png', show_shapes=True, show_layer_names=True)"
   ]
  },
  {
   "cell_type": "code",
   "execution_count": 11,
   "id": "awful-relevance",
   "metadata": {},
   "outputs": [],
   "source": [
    "model.compile(loss=['mean_squared_error'], optimizer='adam', metrics=['accuracy'])"
   ]
  },
  {
   "cell_type": "code",
   "execution_count": 12,
   "id": "rising-exploration",
   "metadata": {},
   "outputs": [
    {
     "name": "stdout",
     "output_type": "stream",
     "text": [
      "(288, 1, 7)\n",
      "(288, 7)\n"
     ]
    }
   ],
   "source": [
    "print((input_train.shape))\n",
    "print((output_train.shape))"
   ]
  },
  {
   "cell_type": "code",
   "execution_count": 13,
   "id": "floppy-polymer",
   "metadata": {},
   "outputs": [
    {
     "name": "stdout",
     "output_type": "stream",
     "text": [
      "Train on 288 samples, validate on 144 samples\n",
      "Epoch 1/10\n",
      "288/288 [==============================] - 3s 12ms/sample - loss: 0.2203 - accuracy: 0.0799 - val_loss: 0.1899 - val_accuracy: 0.1458\n",
      "Epoch 2/10\n",
      "288/288 [==============================] - 1s 3ms/sample - loss: 0.1587 - accuracy: 0.1840 - val_loss: 0.1368 - val_accuracy: 0.2778\n",
      "Epoch 3/10\n",
      "288/288 [==============================] - 1s 3ms/sample - loss: 0.1253 - accuracy: 0.3333 - val_loss: 0.1210 - val_accuracy: 0.1875\n",
      "Epoch 4/10\n",
      "288/288 [==============================] - 1s 3ms/sample - loss: 0.1166 - accuracy: 0.2639 - val_loss: 0.1167 - val_accuracy: 0.2778\n",
      "Epoch 5/10\n",
      "288/288 [==============================] - 1s 3ms/sample - loss: 0.1133 - accuracy: 0.3715 - val_loss: 0.1146 - val_accuracy: 0.2778\n",
      "Epoch 6/10\n",
      "288/288 [==============================] - 1s 3ms/sample - loss: 0.1109 - accuracy: 0.3715 - val_loss: 0.1126 - val_accuracy: 0.2778\n",
      "Epoch 7/10\n",
      "288/288 [==============================] - 1s 3ms/sample - loss: 0.1084 - accuracy: 0.3611 - val_loss: 0.1109 - val_accuracy: 0.2778\n",
      "Epoch 8/10\n",
      "288/288 [==============================] - 1s 3ms/sample - loss: 0.1058 - accuracy: 0.3889 - val_loss: 0.1096 - val_accuracy: 0.3194\n",
      "Epoch 9/10\n",
      "288/288 [==============================] - 1s 3ms/sample - loss: 0.1037 - accuracy: 0.3993 - val_loss: 0.1087 - val_accuracy: 0.3194\n",
      "Epoch 10/10\n",
      "288/288 [==============================] - 1s 3ms/sample - loss: 0.1020 - accuracy: 0.4062 - val_loss: 0.1081 - val_accuracy: 0.3889\n"
     ]
    },
    {
     "data": {
      "text/plain": [
       "<tensorflow.python.keras.callbacks.History at 0x7fdf7ceade80>"
      ]
     },
     "execution_count": 13,
     "metadata": {},
     "output_type": "execute_result"
    }
   ],
   "source": [
    "\n",
    "model.fit(input_train,{'output_layer': output_train},\n",
    "       validation_data=(input_val, {'output_layer': output_val}),\n",
    "       epochs=10, batch_size=1, verbose=1)"
   ]
  }
 ],
 "metadata": {
  "kernelspec": {
   "display_name": "Python 3",
   "language": "python",
   "name": "python3"
  },
  "language_info": {
   "codemirror_mode": {
    "name": "ipython",
    "version": 3
   },
   "file_extension": ".py",
   "mimetype": "text/x-python",
   "name": "python",
   "nbconvert_exporter": "python",
   "pygments_lexer": "ipython3",
   "version": "3.6.8"
  }
 },
 "nbformat": 4,
 "nbformat_minor": 5
}
